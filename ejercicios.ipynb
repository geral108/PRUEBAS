{
  "nbformat": 4,
  "nbformat_minor": 0,
  "metadata": {
    "colab": {
      "provenance": [],
      "authorship_tag": "ABX9TyMx5UuxxOCQv0MGI+qwdYcY",
      "include_colab_link": true
    },
    "kernelspec": {
      "name": "python3",
      "display_name": "Python 3"
    },
    "language_info": {
      "name": "python"
    }
  },
  "cells": [
    {
      "cell_type": "markdown",
      "metadata": {
        "id": "view-in-github",
        "colab_type": "text"
      },
      "source": [
        "<a href=\"https://colab.research.google.com/github/geral108/PRUEBAS/blob/main/ejercicios.ipynb\" target=\"_parent\"><img src=\"https://colab.research.google.com/assets/colab-badge.svg\" alt=\"Open In Colab\"/></a>"
      ]
    },
    {
      "cell_type": "code",
      "execution_count": null,
      "metadata": {
        "id": "Q0B5qGsUz3EA"
      },
      "outputs": [],
      "source": []
    },
    {
      "cell_type": "markdown",
      "source": [
        "Ejercicio 1:\n",
        "Programa una pregunta al usuario por las ventas de un rango de años y que luego muestre por pantalla una serie con los datos de las ventas ingresada por los datos antes y despues de aplicarles  un decuento del 5%\n"
      ],
      "metadata": {
        "id": "_XCGXPqf0UFf"
      }
    },
    {
      "cell_type": "code",
      "source": [
        "import pandas as pd\n",
        "inicio = int(input(\"Ingrese el año inicial: \"))\n",
        "fin = int(input(\"Ingrese el año final: \"))\n",
        "ventas = {} # se inicia en vacio para agregar luego datos\n",
        "for i in range(inicio , fin +1):\n",
        "  ventas[i] = float(input(\"Ingrese las ventas del año \"+ str(i) +': ')) #el str es una secuencia de datos string que peden ser numericos o tambien pueden ser flotantes(%)\n",
        "ventas = pd.Series(ventas)\n",
        "print(\"Ventas\\n\", ventas)\n",
        "print(\"Ventas con Descuento\\n\", ventas*0.5)\n"
      ],
      "metadata": {
        "colab": {
          "base_uri": "https://localhost:8080/"
        },
        "id": "47OSULNI1rgc",
        "outputId": "cb7dcb5a-9829-425a-a80c-6228f92ec509"
      },
      "execution_count": 10,
      "outputs": [
        {
          "output_type": "stream",
          "name": "stdout",
          "text": [
            "Ingrese el año inicial: 200\n",
            "Ingrese el año final: 203\n",
            "Ingrese las ventas del año 200: 120\n",
            "Ingrese las ventas del año 201: 120\n",
            "Ingrese las ventas del año 202: 120\n",
            "Ingrese las ventas del año 203: 120\n",
            "Ventas\n",
            " 200    120.0\n",
            "201    120.0\n",
            "202    120.0\n",
            "203    120.0\n",
            "dtype: float64\n",
            "Ventas con Descuento\n",
            " 200    60.0\n",
            "201    60.0\n",
            "202    60.0\n",
            "203    60.0\n",
            "dtype: float64\n"
          ]
        }
      ]
    },
    {
      "cell_type": "markdown",
      "source": [
        "Ejercicio 1.2:\n",
        "Programa una pregunta al usuario por las ventas de un rango de años y que luego muestre por pantalla una serie con los datos de las ventas ingresada por los datos antes y despues de aplicarles  un decuento del 5%; de los 10 primeros años pares"
      ],
      "metadata": {
        "id": "iyM8jYIc1eu-"
      }
    },
    {
      "cell_type": "code",
      "source": [
        "import pandas as pd\n",
        "inicio = int(input(\"Ingrese el año inicial: \"))\n",
        "\n",
        "a_pares = []\n",
        "secuencia = inicio - 1 if inicio % 2 != 0 else inicio\n",
        "while len(a_pares) < 10:\n",
        "    a_pares.append(secuencia)\n",
        "    secuencia -= 2\n",
        "\n",
        "ventas = {}\n",
        "for i in a_pares:\n",
        "    ventas[i] = float(input(\"Ingrese las ventas del año \" + str(i) + \": \"))\n",
        "ventas = pd.Series(ventas)\n",
        "print(\"Ventas\\n\", ventas)\n",
        "print(\"Ventas con Descuento\\n\", ventas*0.5)\n"
      ],
      "metadata": {
        "colab": {
          "base_uri": "https://localhost:8080/"
        },
        "id": "lWQXwvYx9itD",
        "outputId": "dd5a7547-f865-4ea8-b4bc-c60f898f2bc6"
      },
      "execution_count": 19,
      "outputs": [
        {
          "output_type": "stream",
          "name": "stdout",
          "text": [
            "Ingrese el año inicial: 1999\n",
            "Ingrese las ventas del año 1998: 1200\n",
            "Ingrese las ventas del año 1996: 1200\n",
            "Ingrese las ventas del año 1994: 100\n",
            "Ingrese las ventas del año 1992: 150\n",
            "Ingrese las ventas del año 1990: 1870\n",
            "Ingrese las ventas del año 1988: 1360\n",
            "Ingrese las ventas del año 1986: 1845\n",
            "Ingrese las ventas del año 1984: 15987\n",
            "Ingrese las ventas del año 1982: 126\n",
            "Ingrese las ventas del año 1980: 123\n",
            "Ventas\n",
            " 1998     1200.0\n",
            "1996     1200.0\n",
            "1994      100.0\n",
            "1992      150.0\n",
            "1990     1870.0\n",
            "1988     1360.0\n",
            "1986     1845.0\n",
            "1984    15987.0\n",
            "1982      126.0\n",
            "1980      123.0\n",
            "dtype: float64\n",
            "Ventas con Descuento\n",
            " 1998     600.0\n",
            "1996     600.0\n",
            "1994      50.0\n",
            "1992      75.0\n",
            "1990     935.0\n",
            "1988     680.0\n",
            "1986     922.5\n",
            "1984    7993.5\n",
            "1982      63.0\n",
            "1980      61.5\n",
            "dtype: float64\n"
          ]
        }
      ]
    },
    {
      "cell_type": "markdown",
      "source": [
        "Ejercicio2: Calculo de estadisticas basicas: media, mediana, desviacion estandar-numpy para el dataframe"
      ],
      "metadata": {
        "id": "nMX2KQhdECTc"
      }
    },
    {
      "cell_type": "code",
      "source": [
        "import pandas as pd\n",
        "import numpy as np\n",
        "# Crear un dataFrame\n",
        "data = {'Nombre':['Jose' , 'Juan' , 'Maria' , 'Pedro'], 'Edad':[32 , 28 , 45 , 21], 'Ciudad':['Huancayo' , 'La Libertad' , 'Arequipa' , 'Tumbes']}\n",
        "df = pd.DataFrame(data) #estamos llamando a panda y creamos dataframe para llenar el valor data\n",
        "\n",
        "#Calcular la media utilizando numpy\n",
        "media_edad = np.mean(df['Edad'])\n",
        "print(media_edad)\n",
        "\n",
        "#Calcular la mediana usando numpy\n",
        "media_edad = np.median(df['Edad'])\n",
        "print(media_edad)\n",
        "\n",
        "#Calcular la desviacion estandar usando numpy\n",
        "desviacion_edad = np.std(df['Edad'])\n",
        "print(desviacion_edad)"
      ],
      "metadata": {
        "colab": {
          "base_uri": "https://localhost:8080/"
        },
        "id": "moXOGwQ6EWdq",
        "outputId": "0a65cba7-c3d8-40a4-fb23-ef1ddd66373b"
      },
      "execution_count": 23,
      "outputs": [
        {
          "output_type": "stream",
          "name": "stdout",
          "text": [
            "31.5\n",
            "30.0\n",
            "8.73212459828649\n"
          ]
        }
      ]
    },
    {
      "cell_type": "markdown",
      "source": [
        "Ejercicio2.1: Sacar el maximo y el minimo de las edades"
      ],
      "metadata": {
        "id": "m69X2xSeLEk6"
      }
    },
    {
      "cell_type": "code",
      "source": [
        "import pandas as pd\n",
        "import numpy as np\n",
        "# Crear un dataFrame\n",
        "data = {'Nombre':['Jose' , 'Juan' , 'Maria' , 'Pedro'], 'Edad':[32 , 28 , 45 , 21], 'Ciudad':['Huancayo' , 'La Libertad' , 'Arequipa' , 'Tumbes']}\n",
        "df = pd.DataFrame(data) #estamos llamando a panda y creamos dataframe para llenar el valor data\n",
        "\n",
        "#Calcular el maximo numero con numpy\n",
        "max_edad = np.max(df['Edad'])\n",
        "print(max_edad)\n",
        "\n",
        "#Calcular la minima edad usando numpy\n",
        "min_edad = np.min(df['Edad'])\n",
        "print(min_edad)"
      ],
      "metadata": {
        "colab": {
          "base_uri": "https://localhost:8080/"
        },
        "id": "eZyXWijQLJxZ",
        "outputId": "1d6a76ac-5b64-476b-88c5-cf0c276bef97"
      },
      "execution_count": 25,
      "outputs": [
        {
          "output_type": "stream",
          "name": "stdout",
          "text": [
            "45\n",
            "21\n"
          ]
        }
      ]
    }
  ]
}